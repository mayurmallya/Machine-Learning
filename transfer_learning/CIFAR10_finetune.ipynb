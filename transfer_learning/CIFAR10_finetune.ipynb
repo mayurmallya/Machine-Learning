{
  "nbformat": 4,
  "nbformat_minor": 0,
  "metadata": {
    "colab": {
      "name": "CIFAR10_726.ipynb",
      "provenance": [],
      "collapsed_sections": []
    },
    "kernelspec": {
      "name": "python3",
      "display_name": "Python 3"
    },
    "accelerator": "GPU"
  },
  "cells": [
    {
      "cell_type": "code",
      "metadata": {
        "id": "uNzSdcREgV_e",
        "outputId": "d19b7bb9-84a5-4cb9-d9c0-20b0f802bc84",
        "colab": {
          "base_uri": "https://localhost:8080/",
          "height": 1000
        }
      },
      "source": [
        "'''\n",
        "The file is adapted from the repo https://github.com/chenyaofo/CIFAR-pretrained-models\n",
        "'''\n",
        "\n",
        "import torch.nn as nn\n",
        "import torch.utils.model_zoo as model_zoo\n",
        "import torch\n",
        "import torchvision.datasets as datasets\n",
        "import torchvision.transforms as transforms\n",
        "import torch.optim as optim\n",
        "import matplotlib.pyplot as plt\n",
        "NUM_EPOCH = 10\n",
        "\n",
        "#GPU call\n",
        "device = torch.device(\"cuda:0\" if torch.cuda.is_available() else \"cpu\")\n",
        "\n",
        "def conv3x3(in_planes, out_planes, stride=1):\n",
        "    \"\"\"3x3 convolution with padding\"\"\"\n",
        "    return nn.Conv2d(in_planes, out_planes, kernel_size=3, stride=stride, padding=1, bias=False)\n",
        "\n",
        "\n",
        "def conv1x1(in_planes, out_planes, stride=1):\n",
        "    \"\"\"1x1 convolution\"\"\"\n",
        "    return nn.Conv2d(in_planes, out_planes, kernel_size=1, stride=stride, bias=False)\n",
        "\n",
        "\n",
        "class BasicBlock(nn.Module):\n",
        "    expansion = 1\n",
        "\n",
        "    def __init__(self, inplanes, planes, stride=1, downsample=None):\n",
        "        super(BasicBlock, self).__init__()\n",
        "        self.conv1 = conv3x3(inplanes, planes, stride)\n",
        "        self.bn1 = nn.BatchNorm2d(planes)\n",
        "        self.relu = nn.ReLU(inplace=True)\n",
        "        self.conv2 = conv3x3(planes, planes)\n",
        "        self.bn2 = nn.BatchNorm2d(planes)\n",
        "        self.downsample = downsample\n",
        "        self.stride = stride\n",
        "\n",
        "    def forward(self, x):\n",
        "        identity = x\n",
        "\n",
        "        out = self.conv1(x)\n",
        "        out = self.bn1(out)\n",
        "        out = self.relu(out)\n",
        "\n",
        "        out = self.conv2(out)\n",
        "        out = self.bn2(out)\n",
        "\n",
        "        if self.downsample is not None:\n",
        "            identity = self.downsample(x)\n",
        "\n",
        "        out += identity\n",
        "        out = self.relu(out)\n",
        "\n",
        "        return out\n",
        "\n",
        "\n",
        "class CifarResNet(nn.Module):\n",
        "\n",
        "    def __init__(self, block, layers, num_classes=100):\n",
        "        super(CifarResNet, self).__init__()\n",
        "        self.inplanes = 16\n",
        "        self.conv1 = conv3x3(3, 16)\n",
        "        self.bn1 = nn.BatchNorm2d(16)\n",
        "        self.relu = nn.ReLU(inplace=True)\n",
        "\n",
        "        self.layer1 = self._make_layer(block, 16, layers[0])\n",
        "        self.layer2 = self._make_layer(block, 32, layers[1], stride=2)\n",
        "        self.layer3 = self._make_layer(block, 64, layers[2], stride=2)\n",
        "\n",
        "        self.avgpool = nn.AdaptiveAvgPool2d((1, 1))\n",
        "        self.fc = nn.Linear(64 * block.expansion, num_classes)\n",
        "\n",
        "        for m in self.modules():\n",
        "            if isinstance(m, nn.Conv2d):\n",
        "                nn.init.kaiming_normal_(m.weight, mode='fan_out', nonlinearity='relu')\n",
        "            elif isinstance(m, nn.BatchNorm2d):\n",
        "                nn.init.constant_(m.weight, 1)\n",
        "                nn.init.constant_(m.bias, 0)\n",
        "\n",
        "    def _make_layer(self, block, planes, blocks, stride=1):\n",
        "        downsample = None\n",
        "        if stride != 1 or self.inplanes != planes * block.expansion:\n",
        "            downsample = nn.Sequential(\n",
        "                conv1x1(self.inplanes, planes * block.expansion, stride),\n",
        "                nn.BatchNorm2d(planes * block.expansion),\n",
        "            )\n",
        "\n",
        "        layers = []\n",
        "        layers.append(block(self.inplanes, planes, stride, downsample))\n",
        "        self.inplanes = planes * block.expansion\n",
        "        for _ in range(1, blocks):\n",
        "            layers.append(block(self.inplanes, planes))\n",
        "\n",
        "        return nn.Sequential(*layers)\n",
        "\n",
        "    def forward(self, x):\n",
        "        x = self.conv1(x)\n",
        "        x = self.bn1(x)\n",
        "        x = self.relu(x)\n",
        "\n",
        "        x = self.layer1(x)\n",
        "        x = self.layer2(x)\n",
        "        x = self.layer3(x)\n",
        "\n",
        "        x = self.avgpool(x)\n",
        "        x = x.view(x.size(0), -1)\n",
        "        x = self.fc(x)\n",
        "\n",
        "        return x\n",
        "\n",
        "######################################################\n",
        "####### Do not modify the code above this line #######\n",
        "######################################################\n",
        "\n",
        "class cifar_resnet20(nn.Module):\n",
        "    def __init__(self):\n",
        "        super(cifar_resnet20, self).__init__()\n",
        "        ResNet20 = CifarResNet(BasicBlock, [3, 3, 3])\n",
        "        url = 'https://github.com/chenyaofo/CIFAR-pretrained-models/releases/download/resnet/cifar100-resnet20-8412cc70.pth'\n",
        "        ResNet20.load_state_dict(model_zoo.load_url(url))\n",
        "        modules = list(ResNet20.children())[:-1]\n",
        "        backbone = nn.Sequential(*modules)\n",
        "        self.backbone = nn.Sequential(*modules)\n",
        "        self.fc = nn.Linear(64, 10)\n",
        "\n",
        "    def forward(self, x):\n",
        "        out = self.backbone(x)\n",
        "        out = out.view(out.shape[0], -1)\n",
        "        return self.fc(out)\n",
        "\n",
        "\n",
        "\n",
        "if __name__ == '__main__':\n",
        "    model = cifar_resnet20().to(device)\n",
        "    transform = transforms.Compose([transforms.ToTensor(), transforms.Normalize(mean=(0.4914, 0.4822, 0.4465), std=(0.2023, 0.1994, 0.2010))])\n",
        "\n",
        "    trainset = datasets.CIFAR10('./data', train=True, download=True, transform=transform)\n",
        "    trainloader = torch.utils.data.DataLoader(trainset, batch_size=32, shuffle=True, num_workers=2)\n",
        "\n",
        "    val_set = datasets.CIFAR10('./data', train=False, download=True, transform=transform)\n",
        "    val_loader = torch.utils.data.DataLoader(val_set, batch_size=32, shuffle=False, num_workers=2)\t\n",
        "\n",
        "    #classes = ('plane', 'car', 'bird', 'cat', 'deer', 'dog', 'frog', 'horse', 'ship', 'truck')\n",
        " \n",
        "    criterion = nn.CrossEntropyLoss()\n",
        "    optimizer = optim.SGD(list(model.fc.parameters()), lr=0.001, momentum=0.9)\n",
        "    ## Do the training\n",
        "    j = 0\n",
        "    running_loss_history = []\n",
        "    val_running_loss_history = []\n",
        "    mean_train_error_list = []\n",
        "    mean_val_error_list = []\n",
        "    temp = 10000\n",
        "    \n",
        "    for epoch in range(NUM_EPOCH):  # loop over the dataset multiple times\n",
        "        running_loss = 0.0\n",
        "        val_running_loss = 0.0\n",
        "                \n",
        "        for t_inputs, t_labels in trainloader :\n",
        "            t_inputs = t_inputs.to(device)\n",
        "            t_labels = t_labels.to(device)\n",
        "            optimizer.zero_grad()\n",
        "\n",
        "            # forward + backward + optimize\n",
        "            outputs = model(t_inputs)\n",
        "            loss = criterion(outputs, t_labels)\n",
        "            loss.backward()\n",
        "            optimizer.step()\n",
        "            running_loss += loss.item()\n",
        "            \n",
        "        j = j + 1\n",
        "        print('Epoch %d ends here, and the validation begins' % j)\n",
        "        \n",
        "        with torch.no_grad():\n",
        "          for val_inputs, val_labels in val_loader:\n",
        "            val_inputs = val_inputs.to(device)\n",
        "            val_labels = val_labels.to(device)\n",
        "            val_outputs = model(val_inputs)\n",
        "            val_loss = criterion(val_outputs, val_labels)\n",
        "            \n",
        "            val_running_loss += val_loss.item()\n",
        "            \n",
        "        running_loss_history.append(running_loss)\n",
        "        val_running_loss_history.append(val_running_loss)\n",
        "        \n",
        "                \n",
        "        if val_running_loss < temp:\n",
        "            print('One more minimaa')\n",
        "            temp = val_running_loss\n",
        "            lowest_epoch = epoch + 1\n",
        "            torch.save(model.state_dict(), './CIFAR_save.pth')\n",
        "\n",
        "        print('epoch :', (epoch+1))\n",
        "        print('training loss: {:.4f}'.format(running_loss))\n",
        "        print('validation loss: {:.4f}'.format(val_running_loss))\n",
        "    \n",
        "    for item1 in running_loss_history:\n",
        "        mean_train_error = item1/len(trainloader)\n",
        "        mean_train_error_list.append(mean_train_error)\n",
        "        \n",
        "    for item2 in val_running_loss_history:    \n",
        "        mean_val_error = item2/len(val_loader)\n",
        "        mean_val_error_list.append(mean_val_error)\n",
        "        \n",
        "    print('Finally!')\n",
        "    print('Epoch with lowest validation error = {}'.format(lowest_epoch))\n",
        "    print('Minimum validation error = {}'.format(temp))\n",
        "    plt.plot(mean_train_error_list, label = 'Training loss')\n",
        "    plt.plot(mean_val_error_list, label = 'Validation loss')\n",
        "    plt.legend()"
      ],
      "execution_count": null,
      "outputs": [
        {
          "output_type": "stream",
          "text": [
            "Files already downloaded and verified\n",
            "Files already downloaded and verified\n",
            "Epoch 1 ends here, and the validation begins\n",
            "One more minimaa\n",
            "epoch : 1\n",
            "training loss: 1857.9199\n",
            "validation loss: 312.4508\n",
            "Epoch 2 ends here, and the validation begins\n",
            "One more minimaa\n",
            "epoch : 2\n",
            "training loss: 1507.2753\n",
            "validation loss: 297.8935\n",
            "Epoch 3 ends here, and the validation begins\n",
            "One more minimaa\n",
            "epoch : 3\n",
            "training loss: 1462.2226\n",
            "validation loss: 296.1785\n",
            "Epoch 4 ends here, and the validation begins\n",
            "One more minimaa\n",
            "epoch : 4\n",
            "training loss: 1444.6220\n",
            "validation loss: 290.8119\n",
            "Epoch 5 ends here, and the validation begins\n",
            "One more minimaa\n",
            "epoch : 5\n",
            "training loss: 1432.5183\n",
            "validation loss: 288.7992\n",
            "Epoch 6 ends here, and the validation begins\n",
            "epoch : 6\n",
            "training loss: 1427.1528\n",
            "validation loss: 289.3857\n",
            "Epoch 7 ends here, and the validation begins\n",
            "epoch : 7\n",
            "training loss: 1420.0050\n",
            "validation loss: 290.2135\n",
            "Epoch 8 ends here, and the validation begins\n",
            "epoch : 8\n",
            "training loss: 1423.0866\n",
            "validation loss: 289.3056\n",
            "Epoch 9 ends here, and the validation begins\n",
            "One more minimaa\n",
            "epoch : 9\n",
            "training loss: 1419.0800\n",
            "validation loss: 287.0276\n",
            "Epoch 10 ends here, and the validation begins\n",
            "epoch : 10\n",
            "training loss: 1416.8264\n",
            "validation loss: 287.3829\n",
            "Finally!\n",
            "Epoch with lowest validation error = 9\n",
            "Minimum validation error = 287.0276484787464\n"
          ],
          "name": "stdout"
        },
        {
          "output_type": "display_data",
          "data": {
            "image/png": "[encoded data removed]",
            "text/plain": [
              "<Figure size 432x288 with 1 Axes>"
            ]
          },
          "metadata": {
            "tags": []
          }
        }
      ]
    },
    {
      "cell_type": "code",
      "metadata": {
        "id": "TS8s-HVPQBAn",
        "outputId": "36f73277-b6b3-486f-efce-b869dddbfb53",
        "colab": {
          "base_uri": "https://localhost:8080/",
          "height": 282
        }
      },
      "source": [
        "import matplotlib.pyplot as plt\n",
        "plt.plot(running_loss_history, label = 'Training loss')\n",
        "plt.plot(val_running_loss_history, label = 'Validation loss')\n",
        "plt.legend()"
      ],
      "execution_count": null,
      "outputs": [
        {
          "output_type": "execute_result",
          "data": {
            "text/plain": [
              "<matplotlib.legend.Legend at 0x7f42b0291860>"
            ]
          },
          "metadata": {
            "tags": []
          },
          "execution_count": 27
        },
        {
          "output_type": "display_data",
          "data": {
            "image/png": "[encoded data removed]",
            "text/plain": [
              "<Figure size 432x288 with 1 Axes>"
            ]
          },
          "metadata": {
            "tags": []
          }
        }
      ]
    },
    {
      "cell_type": "code",
      "metadata": {
        "id": "n44LYvpOt-Ll",
        "outputId": "23425c29-860c-4b4c-a542-66d57d6c96f6",
        "colab": {
          "base_uri": "https://localhost:8080/",
          "height": 34
        }
      },
      "source": [
        "import torch\n",
        "device = torch.device(\"cuda:0\" if torch.cuda.is_available() else \"cpu\")\n",
        "print(device)"
      ],
      "execution_count": null,
      "outputs": [
        {
          "output_type": "stream",
          "text": [
            "cuda:0\n"
          ],
          "name": "stdout"
        }
      ]
    },
    {
      "cell_type": "code",
      "metadata": {
        "id": "yuVHmNeRuC-g",
        "colab": {
          "base_uri": "https://localhost:8080/",
          "height": 34
        },
        "outputId": "1a8142f7-4011-4b7e-b29b-85dadb1055a9"
      },
      "source": [
        "print(mean_train_error)"
      ],
      "execution_count": null,
      "outputs": [
        {
          "output_type": "stream",
          "text": [
            "0.9035383096812096\n"
          ],
          "name": "stdout"
        }
      ]
    },
    {
      "cell_type": "code",
      "metadata": {
        "id": "WrIxT9QERlLJ",
        "colab": {
          "base_uri": "https://localhost:8080/",
          "height": 54
        },
        "outputId": "874173cf-be29-4701-895c-718ea640f8d2"
      },
      "source": [
        "print(mean_train_error_list)\n"
      ],
      "execution_count": null,
      "outputs": [
        {
          "output_type": "stream",
          "text": [
            "[1.1929634596320657, 0.9657634882231363, 0.9331197593163315, 0.9197850554170932, 0.9165296865935822, 0.9123582918523445, 0.9068250586531975, 0.9064329688700056, 0.9034511642584188, 0.9061510921172888]\n"
          ],
          "name": "stdout"
        }
      ]
    },
    {
      "cell_type": "code",
      "metadata": {
        "id": "qekozipVWxG6"
      },
      "source": [
        ""
      ],
      "execution_count": null,
      "outputs": []
    }
  ]
}